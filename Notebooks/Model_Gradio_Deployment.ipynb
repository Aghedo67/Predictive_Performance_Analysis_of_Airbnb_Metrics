{
  "nbformat": 4,
  "nbformat_minor": 0,
  "metadata": {
    "colab": {
      "provenance": []
    },
    "kernelspec": {
      "name": "python3",
      "display_name": "Python 3"
    },
    "language_info": {
      "name": "python"
    }
  },
  "cells": [
    {
      "cell_type": "code",
      "execution_count": 9,
      "metadata": {
        "id": "7o_bmwwq0PZz",
        "colab": {
          "base_uri": "https://localhost:8080/",
          "height": 645
        },
        "outputId": "4ba06c83-7c3c-48c5-ffc0-9888335b8bc7"
      },
      "outputs": [
        {
          "output_type": "stream",
          "name": "stdout",
          "text": [
            "It looks like you are running Gradio on a hosted Jupyter notebook, which requires `share=True`. Automatically setting `share=True` (you can turn this off by setting `share=False` in `launch()` explicitly).\n",
            "\n",
            "Colab notebook detected. To show errors in colab notebook, set debug=True in launch()\n",
            "* Running on public URL: https://7b56b31eaf853bea72.gradio.live\n",
            "\n",
            "This share link expires in 1 week. For free permanent hosting and GPU upgrades, run `gradio deploy` from the terminal in the working directory to deploy to Hugging Face Spaces (https://huggingface.co/spaces)\n"
          ]
        },
        {
          "output_type": "display_data",
          "data": {
            "text/plain": [
              "<IPython.core.display.HTML object>"
            ],
            "text/html": [
              "<div><iframe src=\"https://7b56b31eaf853bea72.gradio.live\" width=\"100%\" height=\"500\" allow=\"autoplay; camera; microphone; clipboard-read; clipboard-write;\" frameborder=\"0\" allowfullscreen></iframe></div>"
            ]
          },
          "metadata": {}
        },
        {
          "output_type": "execute_result",
          "data": {
            "text/plain": []
          },
          "metadata": {},
          "execution_count": 9
        }
      ],
      "source": [
        "import gradio as gr\n",
        "import pandas as pd\n",
        "import numpy as np\n",
        "import joblib\n",
        "import matplotlib.pyplot as plt\n",
        "\n",
        "# Load the model\n",
        "saved_model = joblib.load('xgb_model_log.pkl')\n",
        "\n",
        "# Load the frequency-encoded dataset\n",
        "dublin_aggregated_df = pd.read_csv('dublin_aggregated_df.csv')  # Must include 'neighbourhood', 'neighbourhood_freq', 'property_type', 'property_type_freq', and 'price'\n",
        "\n",
        "# Prediction function\n",
        "def predict_and_plot(\n",
        "    host_id,\n",
        "    host_response_rate,\n",
        "    host_is_superhost,\n",
        "    host_listings_count,\n",
        "    accommodates,\n",
        "    bathrooms,\n",
        "    bedrooms,\n",
        "    beds,\n",
        "    avg_rating,\n",
        "    number_of_reviews,\n",
        "    neighbourhood,\n",
        "    property_type\n",
        "):\n",
        "    try:\n",
        "        # Frequency encode with fallback if value is not found\n",
        "        neighbourhood_freq = dublin_aggregated_df[\n",
        "            dublin_aggregated_df['neighbourhood'] == neighbourhood\n",
        "        ]['neighbourhood_freq'].mean()\n",
        "\n",
        "        property_type_freq = dublin_aggregated_df[\n",
        "            dublin_aggregated_df['property_type'] == property_type\n",
        "        ]['property_type_freq'].mean()\n",
        "\n",
        "        if pd.isna(neighbourhood_freq):\n",
        "            neighbourhood_freq = dublin_aggregated_df['neighbourhood_freq'].mean()\n",
        "        if pd.isna(property_type_freq):\n",
        "            property_type_freq = dublin_aggregated_df['property_type_freq'].mean()\n",
        "\n",
        "        # Prepare input dataframe\n",
        "        property_details = pd.DataFrame({\n",
        "            'host_id': [int(host_id)],\n",
        "            'host_response_rate': [host_response_rate],\n",
        "            'host_is_superhost': [1 if host_is_superhost.lower() == 'yes' else 0],\n",
        "            'host_listings_count': [host_listings_count],\n",
        "            'accommodates': [accommodates],\n",
        "            'bathrooms': [bathrooms],\n",
        "            'bedrooms': [bedrooms],\n",
        "            'beds': [beds],\n",
        "            'avg_rating': [avg_rating],\n",
        "            'number_of_reviews': [number_of_reviews],\n",
        "            'neighbourhood_freq': [neighbourhood_freq],\n",
        "            'property_type_freq': [property_type_freq]\n",
        "        })\n",
        "\n",
        "        # Predict log price and transform back\n",
        "        log_price = saved_model.predict(property_details)\n",
        "        predicted_price = np.exp(log_price[0])\n",
        "\n",
        "        # Compare with averages (if price column exists)\n",
        "        if 'price' in dublin_aggregated_df.columns:\n",
        "            avg_neigh_price = dublin_aggregated_df[\n",
        "                dublin_aggregated_df['neighbourhood'] == neighbourhood\n",
        "            ]['price'].mean()\n",
        "\n",
        "            avg_type_price = dublin_aggregated_df[\n",
        "                dublin_aggregated_df['property_type'] == property_type\n",
        "            ]['price'].mean()\n",
        "        else:\n",
        "            avg_neigh_price = np.nan\n",
        "            avg_type_price = np.nan\n",
        "\n",
        "        # Bar chart\n",
        "        labels = ['Predicted Price']\n",
        "        values = [predicted_price]\n",
        "        colors = ['blue']\n",
        "\n",
        "        if not np.isnan(avg_neigh_price):\n",
        "            labels.append(f'Avg {neighbourhood}')\n",
        "            values.append(avg_neigh_price)\n",
        "            colors.append('green')\n",
        "\n",
        "        if not np.isnan(avg_type_price):\n",
        "            labels.append(f'Avg {property_type}')\n",
        "            values.append(avg_type_price)\n",
        "            colors.append('orange')\n",
        "\n",
        "        fig, ax = plt.subplots()\n",
        "        ax.bar(labels, values, color=colors)\n",
        "        ax.set_ylabel('Price in GBP')\n",
        "        ax.set_title('Predicted vs Average Prices')\n",
        "        plt.xticks(rotation=15)\n",
        "\n",
        "        return f\"GBP {predicted_price:.2f}\", fig\n",
        "\n",
        "    except Exception as e:\n",
        "        return f\"Error: {str(e)}\", None\n",
        "\n",
        "\n",
        "# Gradio UI\n",
        "interface = gr.Interface(\n",
        "    fn=predict_and_plot,\n",
        "    inputs=[\n",
        "        gr.Textbox(label=\"Host ID\"),\n",
        "        gr.Number(label=\"Host Response Rate (e.g., 0.95)\"),\n",
        "        gr.Radio(choices=[\"yes\", \"no\"], label=\"Is Superhost?\"),\n",
        "        gr.Number(label=\"Number of Host Listings\", precision=0),\n",
        "        gr.Number(label=\"Accommodates\", precision=0),\n",
        "        gr.Number(label=\"Bathrooms\"),\n",
        "        gr.Number(label=\"Bedrooms\"),\n",
        "        gr.Number(label=\"Beds\"),\n",
        "        gr.Number(label=\"Average Rating\"),\n",
        "        gr.Number(label=\"Number of Reviews\", precision=0),\n",
        "        gr.Textbox(label=\"Neighbourhood\"),\n",
        "        gr.Textbox(label=\"Property Type\")\n",
        "    ],\n",
        "    outputs=[\n",
        "        gr.Text(label=\"Predicted Price\"),\n",
        "        gr.Plot(label=\"Comparison Chart\")\n",
        "    ],\n",
        "    title=\"Dublin Airbnb Price Estimator\",\n",
        "    description=\"This tool uses an XGBoost model to predict Airbnb prices in Dublin based on your inputs.\"\n",
        ")\n",
        "\n",
        "interface.launch()\n"
      ]
    },
    {
      "cell_type": "code",
      "source": [],
      "metadata": {
        "id": "Pvkjpauf0ofA"
      },
      "execution_count": null,
      "outputs": []
    }
  ]
}